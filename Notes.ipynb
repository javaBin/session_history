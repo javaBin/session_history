{
 "cells": [
  {
   "metadata": {},
   "cell_type": "markdown",
   "source": "# JavaZone\n"
  },
  {
   "metadata": {},
   "cell_type": "markdown",
   "source": [
    "## Setup\n",
    "\n",
    "Bring in some libraries for use"
   ]
  },
  {
   "metadata": {
    "collapsed": true
   },
   "cell_type": "code",
   "source": "%use ktor-client\n",
   "outputs": [],
   "execution_count": null
  },
  {
   "metadata": {},
   "cell_type": "code",
   "source": "%use kandy",
   "outputs": [],
   "execution_count": null
  },
  {
   "metadata": {},
   "cell_type": "code",
   "source": "%use dataframe",
   "outputs": [],
   "execution_count": null
  },
  {
   "metadata": {},
   "cell_type": "markdown",
   "source": [
    "## Configuration\n",
    "\n",
    "Setup the same endpoint list as application.conf"
   ]
  },
  {
   "metadata": {},
   "cell_type": "code",
   "source": [
    "import no.java.conf.config.EndpointConfig\n",
    "\n",
    "val endpoints = listOf(\n",
    "    EndpointConfig(2024, \"https://sleepingpill.javazone.no/public/allSessions/javazone_2024\"),\n",
    "    EndpointConfig(2023, \"https://sleepingpill.javazone.no/public/allSessions/javazone_2023\"),\n",
    "    EndpointConfig(2022, \"https://sleepingpill.javazone.no/public/allSessions/javazone_2022\"),\n",
    "    EndpointConfig(2021, \"https://sleepingpill.javazone.no/public/allSessions/javazone_2021\"),\n",
    "    EndpointConfig(2019, \"https://sleepingpill.javazone.no/public/allSessions/javazone_2019\"),\n",
    "    EndpointConfig(2018, \"https://sleepingpill.javazone.no/public/allSessions/javazone_2018\"),\n",
    "    EndpointConfig(2017, \"https://sleepingpill.javazone.no/public/allSessions/javazone_2017\"),\n",
    "    EndpointConfig(2016, \"https://sleepingpill.javazone.no/public/allSessions/javazone_2016\"),\n",
    "    EndpointConfig(2015, \"https://sleepingpill.javazone.no/public/allSessions/javazone_2015\"),\n",
    "    EndpointConfig(2014, \"https://sleepingpill.javazone.no/public/allSessions/javazone_2014\"),\n",
    "    EndpointConfig(2013, \"https://sleepingpill.javazone.no/public/allSessions/javazone_2013\"),\n",
    "    EndpointConfig(2012, \"https://sleepingpill.javazone.no/public/allSessions/javazone_2012\"),\n",
    "    EndpointConfig(2011, \"https://sleepingpill.javazone.no/public/allSessions/javazone_2011\"),\n",
    "    EndpointConfig(2010, \"https://sleepingpill.javazone.no/public/allSessions/javazone_2010\"),\n",
    "    EndpointConfig(2009, \"https://sleepingpill.javazone.no/public/allSessions/javazone_2009\"),\n",
    "    EndpointConfig(2008, \"https://sleepingpill.javazone.no/public/allSessions/javazone_2008\"),\n",
    ")"
   ],
   "outputs": [],
   "execution_count": null
  },
  {
   "metadata": {},
   "cell_type": "markdown",
   "source": [
    "## Service\n",
    "\n",
    "Create the service and fetch all sessions"
   ]
  },
  {
   "metadata": {},
   "cell_type": "code",
   "source": [
    "import no.java.conf.sleepingPillService\n",
    "import no.java.conf.plugins.httpClient\n",
    "\n",
    "val sleepingPillService = sleepingPillService(httpClient(), endpoints)"
   ],
   "outputs": [],
   "execution_count": null
  },
  {
   "metadata": {},
   "cell_type": "code",
   "source": [
    "import kotlinx.coroutines.runBlocking\n",
    "\n",
    "val sessions = runBlocking { \n",
    "    sleepingPillService.retrieve()\n",
    "}"
   ],
   "outputs": [],
   "execution_count": null
  },
  {
   "metadata": {},
   "cell_type": "markdown",
   "source": [
    "## Extract\n",
    "\n",
    "Grab the format and language counts "
   ]
  },
  {
   "metadata": {},
   "cell_type": "code",
   "source": [
    "val formatDistribution = sessions.groupingBy { it.format.name }.eachCount()\n",
    "val languageDistribution = sessions.groupingBy { it.language.name }.eachCount()"
   ],
   "outputs": [],
   "execution_count": null
  },
  {
   "metadata": {},
   "cell_type": "code",
   "source": "formatDistribution",
   "outputs": [],
   "execution_count": null
  },
  {
   "metadata": {},
   "cell_type": "markdown",
   "source": [
    "## Display\n",
    "\n",
    "Plot a bar chart for each of format and language"
   ]
  },
  {
   "metadata": {},
   "cell_type": "code",
   "source": [
    "plot { \n",
    "    bars { \n",
    "        x(formatDistribution.keys)\n",
    "        y(formatDistribution.values)\n",
    "    }\n",
    "}"
   ],
   "outputs": [],
   "execution_count": null
  },
  {
   "metadata": {},
   "cell_type": "code",
   "source": [
    "plot {\n",
    "    bars {\n",
    "        x(languageDistribution.keys)\n",
    "        y(languageDistribution.values)\n",
    "    }\n",
    "}"
   ],
   "outputs": [],
   "execution_count": null
  },
  {
   "metadata": {},
   "cell_type": "markdown",
   "source": [
    "## Data\n",
    "\n",
    "Change of direction - grab the last year as a dataframe and display it. This gives a columnar display of the sessions."
   ]
  },
  {
   "metadata": {},
   "cell_type": "code",
   "source": "val lastYear = DataFrame.read(\"https://sleepingpill.javazone.no/public/allSessions/javazone_2024\")",
   "outputs": [],
   "execution_count": null
  },
  {
   "metadata": {},
   "cell_type": "code",
   "source": "lastYear",
   "outputs": [],
   "execution_count": null
  }
 ],
 "metadata": {
  "kernelspec": {
   "display_name": "Kotlin",
   "language": "kotlin",
   "name": "kotlin"
  },
  "language_info": {
   "name": "kotlin",
   "version": "1.9.23",
   "mimetype": "text/x-kotlin",
   "file_extension": ".kt",
   "pygments_lexer": "kotlin",
   "codemirror_mode": "text/x-kotlin",
   "nbconvert_exporter": ""
  },
  "ktnbPluginMetadata": {
   "projectDependencies": [
    "no.java.conf.main"
   ],
   "projectLibraries": false,
   "sessionRunMode": "IDE_PROCESS"
  }
 },
 "nbformat": 4,
 "nbformat_minor": 0
}
